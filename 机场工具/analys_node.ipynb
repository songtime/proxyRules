{
 "cells": [
  {
   "cell_type": "code",
   "execution_count": null,
   "id": "13d14ce9",
   "metadata": {},
   "outputs": [
    {
     "data": {
      "text/plain": [
       "c3M6Ly9ZV1Z6TFRFeU9DMW5ZMjA2T1RNMFpUUXpObVl0TVRNeVlpMDBZek00TFdGalkyRXRZekpoWWpGbU1UbGhNMlptQHd3dy5nb29nbGUuY29tOjgwIyVFNSU4OSVBOSVFNCVCRCU5OSVFNiVCNSU4MSVFOSU4NyU4RiVFRiVCQyU5QTgxJTIwR0INCnNzOi8vWVdW\n"
      ]
     },
     "metadata": {},
     "output_type": "display_data"
    }
   ],
   "source": [
    "import requests\n",
    "\n",
    "url = \"https://happy2025.phantasy.life/api/v1/client/subscribe?token=36f4adb08be578be93565bd41a882dd3\"\n",
    "\n",
    "response = requests.get(url)\n",
    "if response.status_code == 200:\n",
    "    content = response.text  # 如果是文本（如base64订阅格式）\n",
    "    print(content[:200])     # 打印前200字符看看\n",
    "else:\n",
    "    print(\"下载失败:\", response.status_code)"
   ]
  },
  {
   "cell_type": "markdown",
   "id": "19b4d579",
   "metadata": {},
   "source": []
  },
  {
   "cell_type": "code",
   "execution_count": null,
   "id": "7384286c",
   "metadata": {},
   "outputs": [
    {
     "data": {
      "text/plain": [
       "ss://YWVzLTEyOC1nY206OTM0ZTQzNmYtMTMyYi00YzM4LWFjY2EtYzJhYjFmMTlhM2Zm@www.google.com:80#%E5%89%A9%E4%BD%99%E6%B5%81%E9%87%8F%EF%BC%9A81%20GB\n",
       "ss://YWVzLTEyOC1nY206OTM0ZTQzNmYtMTMyYi00YzM4LWFjY2EtYzJhYjFmMTlhM2Zm@www.google.com:80#%E8%B7%9D%E7%A6%BB%E4%B8%8B%E6%AC%A1%E9%87%8D%E7%BD%AE%E5%89%A9%E4%BD%99%EF%BC%9A86%20%E5%A4%A9\n",
       "ss://YWVzLTEyOC1nY206OTM0ZTQzNmYtMTMyYi00YzM4LWFjY2EtYzJhYjFmMTlhM2Zm@www.google.com:80#%E5%A5%97%E9%A4%90%E5%88%B0%E6%9C%9F%EF%BC%9A2025-08-31\n",
       "ss://YWVzLTEyOC1nY206OTM0ZTQ\n"
      ]
     },
     "metadata": {},
     "output_type": "display_data"
    }
   ],
   "source": [
    "import base64\n",
    "\n",
    "decoded = base64.b64decode(content).decode(\"utf-8\")\n",
    "print(decoded[:500])"
   ]
  },
  {
   "cell_type": "code",
   "execution_count": null,
   "id": "55ae266b",
   "metadata": {},
   "outputs": [
    {
     "data": {
      "text/plain": [
       "ss://YWVzLTEyOC1nY206OTM0ZTQzNmYtMTMyYi00YzM4LWFjY2EtYzJhYjFmMTlhM2Zm@www.google.com:80#%E5%89%A9%E4%BD%99%E6%B5%81%E9%87%8F%EF%BC%9A81%20GB\n",
       "ss://YWVzLTEyOC1nY206OTM0ZTQzNmYtMTMyYi00YzM4LWFjY2EtYzJhYjFmMTlhM2Zm@www.google.com:80#%E8%B7%9D%E7%A6%BB%E4%B8%8B%E6%AC%A1%E9%87%8D%E7%BD%AE%E5%89%A9%E4%BD%99%EF%BC%9A86%20%E5%A4%A9\n",
       "ss://YWVzLTEyOC1nY206OTM0ZTQzNmYtMTMyYi00YzM4LWFjY2EtYzJhYjFmMTlhM2Zm@www.google.com:80#%E5%A5%97%E9%A4%90%E5%88%B0%E6%9C%9F%EF%BC%9A2025-08-31\n",
       "ss://YWVzLTEyOC1nY206OTM0ZTQzNmYtMTMyYi00YzM4LWFjY2EtYzJhYjFmMTlhM2Zm@www.google.com:80#%F0%9F%87%A8%F0%9F%87%B3%20fby88.icu%20%E7%BD%91%E5%9D%80%E5%8F%91%E5%B8%83\n",
       "ss://YWVzLTEyOC1nY206OTM0ZTQzNmYtMTMyYi00YzM4LWFjY2EtYzJhYjFmMTlhM2Zm@hk04pro.etonfast.top:31035#%F0%9F%87%AD%F0%9F%87%B0%20HKD%20Gcore%20x0.5\n",
       "ss://YWVzLTEyOC1nY206OTM0ZTQzNmYtMTMyYi00YzM4LWFjY2EtYzJhYjFmMTlhM2Zm@hk03pro.etonfast.top:31033#%F0%9F%87%AD%F0%9F%87%B0%20HKD%20Akari%20x1\n",
       "ss://YWVzLTEyOC1nY206OTM0ZTQzNmYtMTMyYi00YzM4LWFjY2EtYzJhYjFmMTlhM2Zm@hk01pro.etonfast.top:31031#%F0%9F%87%AD%F0%9F%87%B0%20HKD%20Eons%20x1\n",
       "ss://YWVzLTEyOC1nY206OTM0ZTQzNmYtMTMyYi00YzM4LWFjY2EtYzJhYjFmMTlhM2Zm@hk02pro.etonfast.top:31032#%F0%9F%87%AD%F0%9F%87%B0%20HKD%20DMIT%20x1\n",
       "ss://YWVzLTEyOC1nY206OTM0ZTQzNmYtMTMyYi00YzM4LWFjY2EtYzJhYjFmMTlhM2Zm@uk.etonfast.top:31002#%F0%9F%87%AC%F0%9F%87%A7%20UK%20Misaka%20x1\n",
       "ss://YWVzLTEyOC1nY206OTM0ZTQzNmYtMTMyYi00YzM4LWFjY2EtYzJhYjFmMTlhM2Zm@hkprogame.etonfast.top:31034#%F0%9F%87%AD%F0%9F%87%B0%20HKD%20Misaka%20IEPL%20x2\n",
       "ss://YWVzLTEyOC1nY206OTM0ZTQzNmYtMTMyYi00YzM4LWFjY2EtYzJhYjFmMTlhM2Zm@sg01.etonfast.top:31013#%F0%9F%87%B8%F0%9F%87%AC%20SGD%20Gcore%20x0.5\n",
       "ss://YWVzLTEyOC1nY206OTM0ZTQzNmYtMTMyYi00YzM4LWFjY2EtYzJhYjFmMTlhM2Zm@sg01pro.etonfast.top:31039#%F0%9F%87%B8%F0%9F%87%AC%20SGD%20Akari01%20x1\n",
       "ss://YWVzLTEyOC1nY206OTM0ZTQzNmYtMTMyYi00YzM4LWFjY2EtYzJhYjFmMTlhM2Zm@my.etonfast.top:31040#%F0%9F%87%B2%F0%9F%87%BE%20MYR%20%20x1\n",
       "ss://YWVzLTEyOC1nY206OTM0ZTQzNmYtMTMyYi00YzM4LWFjY2EtYzJhYjFmMTlhM2Zm@sg03pro.etonfast.top:31046#%F0%9F%87%B8%F0%9F%87%AC%20SGD%20Akari02%20x1\n",
       "ss://YWVzLTEyOC1nY206OTM0ZTQzNmYtMTMyYi00YzM4LWFjY2EtYzJhYjFmMTlhM2Zm@sgprogame.etonfast.top:31041#%F0%9F%87%B8%F0%9F%87%AC%20SGD%20GAME%20IEPL%20x2\n",
       "ss://YWVzLTEyOC1nY206OTM0ZTQzNmYtMTMyYi00YzM4LWFjY2EtYzJhYjFmMTlhM2Zm@tw002pro.etonfast.top:31037#%F0%9F%87%B9%F0%9F%87%BC%20TWD%20Akari%20%20x1\n",
       "ss://YWVzLTEyOC1nY206OTM0ZTQzNmYtMTMyYi00YzM4LWFjY2EtYzJhYjFmMTlhM2Zm@twprogame.etonfast.top:31038#%F0%9F%87%B9%F0%9F%87%BC%20TWD%20Akari%20IEPL%20x2\n",
       "ss://YWVzLTEyOC1nY206OTM0ZTQzNmYtMTMyYi00YzM4LWFjY2EtYzJhYjFmMTlhM2Zm@jp01pro.etonfast.top:31044#%F0%9F%87%AF%F0%9F%87%B5%20JPY%20Misaka%20x1\n",
       "ss://YWVzLTEyOC1nY206OTM0ZTQzNmYtMTMyYi00YzM4LWFjY2EtYzJhYjFmMTlhM2Zm@jp02pro.etonfast.top:31045#%F0%9F%87%AF%F0%9F%87%B5%20JPY%20Akile%20x1\n",
       "ss://YWVzLTEyOC1nY206OTM0ZTQzNmYtMTMyYi00YzM4LWFjY2EtYzJhYjFmMTlhM2Zm@jpprogame.etonfast.top:31046#%F0%9F%87%AF%F0%9F%87%B5%20JPY%20GAME%20IPLC%20x10\n",
       "ss://YWVzLTEyOC1nY206OTM0ZTQzNmYtMTMyYi00YzM4LWFjY2EtYzJhYjFmMTlhM2Zm@us01pro.etonfast.top:31042#%F0%9F%87%BA%F0%9F%87%B8%20USD%20Netlab%20x1\n",
       "ss://YWVzLTEyOC1nY206OTM0ZTQzNmYtMTMyYi00YzM4LWFjY2EtYzJhYjFmMTlhM2Zm@us02pro.etonfast.top:31043#%F0%9F%87%BA%F0%9F%87%B8%20USD%20ReliableSite%20x1\n",
       "ss://YWVzLTEyOC1nY206OTM0ZTQzNmYtMTMyYi00YzM4LWFjY2EtYzJhYjFmMTlhM2Zm@usprogame.etonfast.top:31044#%F0%9F%87%BA%F0%9F%87%B8%20USD%20Apernet%20IPLC%20x10\n",
       "ss://YWVzLTEyOC1nY206OTM0ZTQzNmYtMTMyYi00YzM4LWFjY2EtYzJhYjFmMTlhM2Zm@ngapro.etonfast.top:31006#%F0%9F%87%B3%F0%9F%87%AC%20Nigeria\n",
       "ss://YWVzLTEyOC1nY206OTM0ZTQzNmYtMTMyYi00YzM4LWFjY2EtYzJhYjFmMTlhM2Zm@ph01.etonfast.top:31030#%F0%9F%87%B5%F0%9F%87%AD%20Philippines\n",
       "ss://YWVzLTEyOC1nY206OTM0ZTQzNmYtMTMyYi00YzM4LWFjY2EtYzJhYjFmMTlhM2Zm@id01.etonfast.top:31020#%F0%9F%87%AE%F0%9F%87%A9%20Indonesia\n",
       "ss://YWVzLTEyOC1nY206OTM0ZTQzNmYtMTMyYi00YzM4LWFjY2EtYzJhYjFmMTlhM2Zm@th001.etonfast.top:31022#%F0%9F%87%B9%F0%9F%87%AD%20Thailand\n",
       "ss://YWVzLTEyOC1nY206OTM0ZTQzNmYtMTMyYi00YzM4LWFjY2EtYzJhYjFmMTlhM2Zm@tr01.etonfast.top:31023#%F0%9F%87%B9%F0%9F%87%B7%20Turkey\n",
       "ss://YWVzLTEyOC1nY206OTM0ZTQzNmYtMTMyYi00YzM4LWFjY2EtYzJhYjFmMTlhM2Zm@vn01.etonfast.top:31024#%F0%9F%87%BB%F0%9F%87%B3%20Vietnam\n",
       "ss://YWVzLTEyOC1nY206OTM0ZTQzNmYtMTMyYi00YzM4LWFjY2EtYzJhYjFmMTlhM2Zm@nl001.etonfast.top:31019#%F0%9F%87%B3%F0%9F%87%B1%20Netherlands\n"
      ]
     },
     "metadata": {},
     "output_type": "display_data"
    }
   ],
   "source": [
    "for line in decoded.splitlines():\n",
    "    print(line)\n"
   ]
  }
 ],
 "metadata": {
  "language_info": {
   "name": "python"
  }
 },
 "nbformat": 4,
 "nbformat_minor": 5
}
